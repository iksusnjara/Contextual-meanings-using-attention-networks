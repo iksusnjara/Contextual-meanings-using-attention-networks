{
 "cells": [
  {
   "cell_type": "code",
   "execution_count": 1,
   "metadata": {},
   "outputs": [],
   "source": [
    "import numpy as np\n",
    "import pandas as pd \n",
    "import matplotlib.pyplot as plt\n",
    "import nltk\n",
    "import re"
   ]
  },
  {
   "cell_type": "code",
   "execution_count": 3,
   "metadata": {},
   "outputs": [
    {
     "data": {
      "text/plain": [
       "(6079, 42)"
      ]
     },
     "execution_count": 3,
     "metadata": {},
     "output_type": "execute_result"
    }
   ],
   "source": [
    "data = pd.read_csv('../datasets/train_shortened.csv')\n",
    "data.shape"
   ]
  },
  {
   "cell_type": "code",
   "execution_count": 4,
   "metadata": {},
   "outputs": [],
   "source": [
    "# dropping all columns except question title, question, answer and ratings\n",
    "\n",
    "cols = ['question_title', 'question_body', 'answer']\n",
    "for i in data.columns[12:]:\n",
    "    cols.append(i)\n",
    "data = data[cols]"
   ]
  },
  {
   "cell_type": "code",
   "execution_count": 5,
   "metadata": {},
   "outputs": [
    {
     "data": {
      "text/plain": [
       "(6079, 33)"
      ]
     },
     "execution_count": 5,
     "metadata": {},
     "output_type": "execute_result"
    }
   ],
   "source": [
    "data.shape"
   ]
  },
  {
   "cell_type": "markdown",
   "metadata": {},
   "source": [
    "# Text preprocessing\n",
    "\n",
    "## Lowercasing and removing special characters\n",
    "\n",
    "All special chars, except .?! are removed to keep clean text data. Stop, quetion mark and exclamation mark are kept, and will gain separate tokens, as end of sentence markers."
   ]
  },
  {
   "cell_type": "code",
   "execution_count": 6,
   "metadata": {},
   "outputs": [],
   "source": [
    "question_titles = data['question_title'].values.copy()\n",
    "questions = data['question_body'].values.copy()\n",
    "answers = data['answer'].values.copy()"
   ]
  },
  {
   "cell_type": "code",
   "execution_count": 7,
   "metadata": {},
   "outputs": [],
   "source": [
    "def text_preprocessor(texts):\n",
    "\n",
    "    # final list\n",
    "    texts_prep = []\n",
    "    # chars to remove from text\n",
    "    filters =['\\'', '\\\"', '$', '%' ,'&', '(', ')', '*', ',', '+', '-', '/',':',';','<','=','>'\n",
    "              ,'[',']','^','_','`','{','|','}','~','\\t','\\n', '@', '\\\\']\n",
    "\n",
    "    # cleaning whitespace: only one (' ') remains\n",
    "    whitespace_cleaner = re.compile(r'\\s+')\n",
    "    for i in range(len(texts)):\n",
    "        texts[i] = whitespace_cleaner.sub(' ', texts[i]).strip()\n",
    "\n",
    "    # for each text\n",
    "    for text in texts:\n",
    "        # split it by whitespace\n",
    "        split = text.split(' ')\n",
    "        # list to save preprocessed text\n",
    "        to_add = []\n",
    "        # going word by word\n",
    "        for word in split:\n",
    "            proc = []\n",
    "            # making list of valid words, removing urls\n",
    "            if word.isascii() and word.startswith('http') == False:\n",
    "                x = list(word)\n",
    "                # going char by char\n",
    "                for i in x:\n",
    "                    # if char is not to be filtered out, keep it, else add whitespace instead of it\n",
    "                    if i not in filters:\n",
    "                        # if .?!, add whitespace to it, to keep it as separate token\n",
    "                        if i == '?' or i == '.' or i == '!':\n",
    "                            proc.append(' ' + i)\n",
    "                        else:\n",
    "                            proc.append(i)\n",
    "                    else:\n",
    "                        proc.append(' ')\n",
    "                    if '' in proc:\n",
    "                        proc.remove('')\n",
    "                # apending word to to_add list, which contains its whole text\n",
    "                to_add.append(''.join(proc).lower())\n",
    "                    \n",
    "        # apending list of words back to all texts list\n",
    "        texts_prep.append(' '.join(to_add).strip())\n",
    "        \n",
    "    # cleaning whitespace again: only one (' ') remains\n",
    "    whitespace_cleaner = re.compile(r'\\s+')\n",
    "    for i in range(len(texts_prep)):\n",
    "        texts_prep[i] = whitespace_cleaner.sub(' ', texts_prep[i]).strip()\n",
    "        \n",
    "    return texts_prep"
   ]
  },
  {
   "cell_type": "code",
   "execution_count": 8,
   "metadata": {},
   "outputs": [],
   "source": [
    "question_titles = text_preprocessor(question_titles)\n",
    "questions = text_preprocessor(questions)\n",
    "answers = text_preprocessor(answers)"
   ]
  },
  {
   "cell_type": "code",
   "execution_count": 9,
   "metadata": {
    "scrolled": true
   },
   "outputs": [
    {
     "name": "stdout",
     "output_type": "stream",
     "text": [
      "ORIGINAL:    I understand the problem with people cheating the first post review audits by simply clicking the add comment button, but there really has to be a more graceful way to handle it.\n",
      "\n",
      "It should be as simple as forcing the person to actually write the comment and submit it which will make it less abusable, and if they are abusing the system, they'll be caught quick because they'll actually be posting their (presumably canned) comments on real questions.\n",
      "\n",
      "and if the comments actually aren't canned and relevant to the question anyway, than it's really not that harmful that people are doing it.\n",
      "\n",
      "Both edit and add comment are neutral actions, and it doesn't make sense for someone to fail an audit regardless of whether the post is good or bad(unless it's a blatant spam post or something)\n",
      " \n",
      " PROCESSED:    i understand the problem with people cheating the first post review audits by simply clicking the add comment button but there really has to be a more graceful way to handle it . it should be as simple as forcing the person to actually write the comment and submit it which will make it less abusable and if they are abusing the system they ll be caught quick because they ll actually be posting their presumably canned comments on real questions . and if the comments actually aren t canned and relevant to the question anyway than it s really not that harmful that people are doing it . both edit and add comment are neutral actions and it doesn t make sense for someone to fail an audit regardless of whether the post is good or bad unless it s a blatant spam post or something \n",
      "\n",
      "\n",
      "\n",
      "ORIGINAL:    While a good color scheme will help, the key thing to note here is the need for contrast for enhanced readability. To quote this article from eyemagzine \n",
      "\n",
      "\n",
      "  Light grey text on a white background and small text size both lead to\n",
      "  an increased orbicularis oculi activity and decreased blinking. These\n",
      "  two conditions are related to text quality, and we would expect to\n",
      "  find similar indicators of eye fatigue with poor font quality or\n",
      "  condensed letter spacing.\n",
      "\n",
      "\n",
      "For examples of good color combinations with sufficient contrast I recommend reading this article on UX matters which has this to say on what contrast to choose for minimal eye strain.\n",
      "\n",
      "\n",
      "  Ensuring the Readability of Text Through Contrast\n",
      "  \n",
      "  For backgrounds behind text, use solid, contrasting colors, and avoid\n",
      "  the use of textures and patterns, which can make letterforms difficult\n",
      "  to distinguish or even illegible. Choose combinations of text color\n",
      "  and background color with care. Value contrast between body text and\n",
      "  its background color should be a minimum of about eighty percent.\n",
      "  \n",
      "  Contrast with a white background\n",
      "  \n",
      "  Black text on a white background provides maximal value contrast and,\n",
      "  therefore, optimal readability for body text. The contrast between\n",
      "  charcoal gray (#333333) text and a white background is about eighty\n",
      "  percent—thus giving minimally good value contrast. - \n",
      "  \n",
      "  The following dark colors provide good to excellent contrast and\n",
      "  legibility for text on a white background: \n",
      "  \n",
      "  \n",
      "\n",
      "\n",
      "The importance of contrast with regards to reducing eye strain is explained further in the article as highlighted below\n",
      "\n",
      "\n",
      "  Contrast and Legibility “To provide the best legibility, ensure that text contrasts adequately with its background in both hue and\n",
      "  value.”\n",
      "  \n",
      "  To provide the best legibility, ensure that text contrasts adequately\n",
      "  with its background in both hue and value. When there is insufficient\n",
      "  contrast between the hue or value of text and its background color,\n",
      "  the text appears blurred or has a halo effect around it, making it\n",
      "  difficult to read and resulting in eye strain.\n",
      "\n",
      "\n",
      "That said the choice of text and size is also critical. To quote the above referenced eye magazine site article\n",
      "\n",
      "\n",
      "  Designers usually try to use high quality text when readers are\n",
      "  expected to read for any period of time, but using a comfortable text\n",
      "  size is not always possible. In print, there is a trade-off between\n",
      "  type size and the amount of text that can fit on a page. Nine-point\n",
      "  type may be chosen because it is cost-effective, whereas eleven-point\n",
      "  would be easier to identify visually and would reduce eye strain.\n",
      "  Twelve-point text may be needed for good character definition on\n",
      "  computer screens, because readers frequently sit further from a screen\n",
      "  than from a printed page, but many Web pages specify small font sizes\n",
      "  despite the fact that it \n",
      " PROCESSED:    while a good color scheme will help the key thing to note here is the need for contrast for enhanced readability . to quote this article from eyemagzine light grey text on a white background and small text size both lead to an increased orbicularis oculi activity and decreased blinking . these two conditions are related to text quality and we would expect to find similar indicators of eye fatigue with poor font quality or condensed letter spacing . for examples of good color combinations with sufficient contrast i recommend reading this article on ux matters which has this to say on what contrast to choose for minimal eye strain . ensuring the readability of text through contrast for backgrounds behind text use solid contrasting colors and avoid the use of textures and patterns which can make letterforms difficult to distinguish or even illegible . choose combinations of text color and background color with care . value contrast between body text and its background color should be a minimum of about eighty percent . contrast with a white background black text on a white background provides maximal value contrast and therefore optimal readability for body text . the contrast between charcoal gray #333333 text and a white background is about eighty giving minimally good value contrast . the following dark colors provide good to excellent contrast and legibility for text on a white background the importance of contrast with regards to reducing eye strain is explained further in the article as highlighted below contrast and legibility provide the best legibility ensure that text contrasts adequately with its background in both hue and to provide the best legibility ensure that text contrasts adequately with its background in both hue and value . when there is insufficient contrast between the hue or value of text and its background color the text appears blurred or has a halo effect around it making it difficult to read and resulting in eye strain . that said the choice of text and size is also critical . to quote the above referenced eye magazine site article designers usually try to use high quality text when readers are expected to read for any period of time but using a comfortable text size is not always possible . in print there is a trade off between type size and the amount of text that can fit on a page . nine point type may be chosen because it is cost effective whereas eleven point would be easier to identify visually and would reduce eye strain . twelve point text may be needed for good character definition on computer screens because readers frequently sit further from a screen than from a printed page but many web pages specify small font sizes despite the fact that it \n",
      "\n",
      "\n",
      "\n",
      "ORIGINAL:    \n",
      "  Some people say since \"so\" is a transitional word…\n",
      "\n",
      "\n",
      "There aren't traditional words, there are traditional senses. Compare:\n",
      "\n",
      "\n",
      "  Mix all of these ingredients together. Next, add the milk.\n",
      "  \n",
      "  I love Firefly. Next to Twin Peaks it is my favourite programme.\n",
      "\n",
      "\n",
      "I've deliberately picked a different \"transitional word\" to hopefully make it easier to see the point if you're perhaps over-thinking so.\n",
      "\n",
      "In the first case here, next is indeed in a transitional sense—it serves to introduce the next sentence while also stating they are in a temporal order—and the comma makes sense.\n",
      "\n",
      "In the second case next is not doing this transitional job, but telling us something about how the topic of discussion (Firefly) relates to another thing (Twin Peaks) in the writer's opinion. We don't want to separate it from the to; what would the now separated \"to Twin Peaks it is…\" even mean?\n",
      "\n",
      "So, back to so.\n",
      "\n",
      "So's transitional sense is \"used after a pause for thought to introduce a new topic, question or story.\" In this sense you can remove it and not really lose much meaning, though might you lose impact. If you want your sentence to mean \"I am confident that …\" but with so serving this introductory role, then the comma might be a good idea for that reason. (It might also be a good idea to just cut it, but that's another matter).\n",
      "\n",
      "Another sense of so is \"therefore\" or \"with the result that\". If you want so to say that the studies you mention in the previous sentence (along, perhaps, with earlier statements) is the reason why you have this confidence, then the comma is probably a bad idea.\n",
      "\n",
      "I imagine you want the second of these two readings, and I'd therefore recommend that you don't use a comma.\n",
      " \n",
      " PROCESSED:    some people say since so is a transitional there aren t traditional words there are traditional senses . compare mix all of these ingredients together . next add the milk . i love firefly . next to twin peaks it is my favourite programme . i ve deliberately picked a different transitional word to hopefully make it easier to see the point if you re perhaps over thinking so . in the first case here next is indeed in a transitional serves to introduce the next sentence while also stating they are in a temporal the comma makes sense . in the second case next is not doing this transitional job but telling us something about how the topic of discussion firefly relates to another thing twin peaks in the writer s opinion . we don t want to separate it from the to what would the now separated to twin peaks it even mean ? so back to so . so s transitional sense is used after a pause for thought to introduce a new topic question or story . in this sense you can remove it and not really lose much meaning though might you lose impact . if you want your sentence to mean i am confident that but with so serving this introductory role then the comma might be a good idea for that reason . it might also be a good idea to just cut it but that s another matter . another sense of so is therefore or with the result that . if you want so to say that the studies you mention in the previous sentence along perhaps with earlier statements is the reason why you have this confidence then the comma is probably a bad idea . i imagine you want the second of these two readings and i d therefore recommend that you don t use a comma . \n",
      "\n",
      "\n",
      "\n",
      "ORIGINAL:    I'm comparing the datasheets for ST Microelectronics' versions of these:\n",
      "\n",
      "\n",
      "L78S12CV\n",
      "L7812CV\n",
      "\n",
      "\n",
      "The performance characteristics, such as Output voltage vs. junction temperature, is identical for both.\n",
      "\n",
      "The operating (junction) temperature is different, 7812 is 0-125°C; 78S12 is 0-150°C.\n",
      "\n",
      "In both cases, in a TO-220 package, the thermal resistance is the same: 5°C/W for junction-case, and 50°C/W for junction-ambient.\n",
      "\n",
      "Based on this information, I would not expect the 78S12 to run cooler given the same load and heatsink. But it can handle higher operating temperatures, which may be a reason to favor it.\n",
      " \n",
      " PROCESSED:    i m comparing the datasheets for st microelectronics versions of these l78s12cv l7812cv the performance characteristics such as output voltage vs . junction temperature is identical for both . the operating junction temperature is different 7812 is 78s12 is in both cases in a to 220 package the thermal resistance is the same for junction case and for junction ambient . based on this information i would not expect the 78s12 to run cooler given the same load and heatsink . but it can handle higher operating temperatures which may be a reason to favor it . \n",
      "\n",
      "\n",
      "\n",
      "ORIGINAL:    The Guava Framework supports such called Mutlimaps oder Multisets. Check this out: https://code.google.com/p/guava-libraries/wiki/NewCollectionTypesExplained\n",
      " \n",
      " PROCESSED:    the guava framework supports such called mutlimaps oder multisets . check this out \n",
      "\n",
      "\n",
      "\n"
     ]
    }
   ],
   "source": [
    "# printing few answers before and after preprocessing\n",
    "\n",
    "rdm = np.random.randint(0,len(answers), 5)\n",
    "\n",
    "for i in rdm:\n",
    "    print('ORIGINAL:   ', data.iloc[i]['answer'], '\\n', 'PROCESSED:   ', answers[i], '\\n\\n\\n')"
   ]
  },
  {
   "cell_type": "markdown",
   "metadata": {},
   "source": [
    "## Lemmatization"
   ]
  },
  {
   "cell_type": "code",
   "execution_count": 10,
   "metadata": {},
   "outputs": [],
   "source": [
    "# POS tagging all words in tweets, and keeping tags only for nouns, verbs, adjectives and adverbs\n",
    "\n",
    "def pos_tagger(texts):\n",
    "\n",
    "    # procesed array-to-be\n",
    "    texts_tagged = []\n",
    "\n",
    "    for text in texts:\n",
    "        # here each text is added after tagging\n",
    "        tagged_final = []\n",
    "        # splitting by whitespace and tagging\n",
    "        split = text.split(' ')\n",
    "        split = np.array(split)\n",
    "        # some '' are stil left in list, cleaning them with numpy where\n",
    "        where = np.where(split == '')\n",
    "        split = np.delete(split, where)\n",
    "        tagged = nltk.pos_tag(split)\n",
    "        # keeping only tags for nouns, verbs, adjectives and adverbs\n",
    "        for item in tagged:\n",
    "            if item[1].startswith('N'):\n",
    "                tagged_final.append((item[0],'n'))\n",
    "            elif item[1].startswith('V'):\n",
    "                tagged_final.append((item[0],'v'))\n",
    "            elif item[1].startswith('J'):\n",
    "                tagged_final.append((item[0],'a'))\n",
    "            elif item[1].startswith('R'):\n",
    "                tagged_final.append((item[0],'r'))\n",
    "            else:\n",
    "                tagged_final.append((item[0], None))\n",
    "        # adding back to final list\n",
    "        texts_tagged.append(tagged_final)\n",
    "    \n",
    "    return np.array(texts_tagged)"
   ]
  },
  {
   "cell_type": "code",
   "execution_count": 11,
   "metadata": {},
   "outputs": [],
   "source": [
    "question_titles = pos_tagger(question_titles)\n",
    "questions = pos_tagger(questions)\n",
    "answers = pos_tagger(answers)"
   ]
  },
  {
   "cell_type": "code",
   "execution_count": 12,
   "metadata": {},
   "outputs": [
    {
     "data": {
      "text/plain": [
       "[('what', None),\n",
       " ('am', 'v'),\n",
       " ('i', 'a'),\n",
       " ('losing', 'n'),\n",
       " ('when', None),\n",
       " ('using', 'v'),\n",
       " ('extension', 'n'),\n",
       " ('tubes', 'n'),\n",
       " ('instead', 'r'),\n",
       " ('of', None),\n",
       " ('a', None),\n",
       " ('macro', 'n'),\n",
       " ('lens', 'n'),\n",
       " ('?', None)]"
      ]
     },
     "execution_count": 12,
     "metadata": {},
     "output_type": "execute_result"
    }
   ],
   "source": [
    "question_titles[0]"
   ]
  },
  {
   "cell_type": "code",
   "execution_count": 13,
   "metadata": {},
   "outputs": [],
   "source": [
    "def lemmatize(texts):\n",
    "    \n",
    "    # using wordnet lemmatizer\n",
    "    from nltk.stem import WordNetLemmatizer\n",
    "    lem = WordNetLemmatizer()\n",
    "    \n",
    "    # lemmatized texts list to be\n",
    "    texts_lemmed = []\n",
    "    # going text by text, if word has valid tag (not None), lemmatize it\n",
    "    for text in texts:\n",
    "        to_add = []\n",
    "        for i,j in text:\n",
    "            if j == None:\n",
    "                to_add.append(i)\n",
    "            else:\n",
    "                to_add.append(lem.lemmatize(i, pos = j))\n",
    "        texts_lemmed.append(' '.join(to_add))\n",
    "    \n",
    "    return np.array(texts_lemmed)"
   ]
  },
  {
   "cell_type": "code",
   "execution_count": 14,
   "metadata": {},
   "outputs": [],
   "source": [
    "question_titles = lemmatize(question_titles)\n",
    "questions = lemmatize(questions)\n",
    "answers = lemmatize(answers)"
   ]
  },
  {
   "cell_type": "code",
   "execution_count": 15,
   "metadata": {},
   "outputs": [
    {
     "data": {
      "text/plain": [
       "array(['what be i losing when use extension tube instead of a macro lens ?',\n",
       "       'what be the distinction between a city and a sprawl metroplex . . . between downtown and a commercial district ?',\n",
       "       'maximum protusion length for through hole component pin', ...,\n",
       "       'suppress file truncate message when use tail',\n",
       "       'when should a supervisor be a co author ?',\n",
       "       'why be there so many different type of screw phillps flat hex star etc ?'],\n",
       "      dtype='<U140')"
      ]
     },
     "execution_count": 15,
     "metadata": {},
     "output_type": "execute_result"
    }
   ],
   "source": [
    "question_titles"
   ]
  },
  {
   "cell_type": "markdown",
   "metadata": {},
   "source": [
    "## Creating vocabulary"
   ]
  },
  {
   "cell_type": "code",
   "execution_count": 16,
   "metadata": {},
   "outputs": [],
   "source": [
    "# stacking all texts together\n",
    "\n",
    "all_texts = np.hstack((question_titles, questions, answers))"
   ]
  },
  {
   "cell_type": "code",
   "execution_count": 17,
   "metadata": {},
   "outputs": [
    {
     "data": {
      "text/plain": [
       "1741106"
      ]
     },
     "execution_count": 17,
     "metadata": {},
     "output_type": "execute_result"
    }
   ],
   "source": [
    "# seeing how many unique words there are\n",
    "\n",
    "all_words = []\n",
    "\n",
    "for i in all_texts:\n",
    "    x = i.split(' ')\n",
    "    for j in x:\n",
    "        all_words.append(j)\n",
    "        \n",
    "len(all_words)"
   ]
  },
  {
   "cell_type": "code",
   "execution_count": 21,
   "metadata": {},
   "outputs": [
    {
     "data": {
      "text/plain": [
       "44123"
      ]
     },
     "execution_count": 21,
     "metadata": {},
     "output_type": "execute_result"
    }
   ],
   "source": [
    "# number of unique words\n",
    "\n",
    "len(list(set(all_words)))"
   ]
  },
  {
   "cell_type": "code",
   "execution_count": 22,
   "metadata": {},
   "outputs": [],
   "source": [
    "freq_dist = nltk.FreqDist(all_words)"
   ]
  },
  {
   "cell_type": "code",
   "execution_count": 29,
   "metadata": {},
   "outputs": [
    {
     "data": {
      "text/plain": [
       "44123"
      ]
     },
     "execution_count": 29,
     "metadata": {},
     "output_type": "execute_result"
    }
   ],
   "source": [
    "len(freq_dist)"
   ]
  },
  {
   "cell_type": "code",
   "execution_count": 27,
   "metadata": {},
   "outputs": [],
   "source": [
    "# keeping only words which show up 10 or more times in tweets as tokens, discarding rest\n",
    "\n",
    "tokens = {k:v for k,v in freq_dist.items() if v >= 10}"
   ]
  },
  {
   "cell_type": "code",
   "execution_count": 28,
   "metadata": {},
   "outputs": [
    {
     "data": {
      "text/plain": [
       "8276"
      ]
     },
     "execution_count": 28,
     "metadata": {},
     "output_type": "execute_result"
    }
   ],
   "source": [
    "len(tokens)"
   ]
  },
  {
   "cell_type": "code",
   "execution_count": 32,
   "metadata": {},
   "outputs": [],
   "source": [
    "# fitting tokenizer on all texts\n",
    "from tensorflow.keras.preprocessing.text import Tokenizer\n",
    "\n",
    "tok = Tokenizer(num_words = 8277, filters = '')\n",
    "\n",
    "tok.fit_on_texts(all_texts)"
   ]
  },
  {
   "cell_type": "code",
   "execution_count": 44,
   "metadata": {},
   "outputs": [],
   "source": [
    "question_titles = tok.texts_to_sequences(question_titles)\n",
    "questions = tok.texts_to_sequences(questions)\n",
    "answers = tok.texts_to_sequences(answers)"
   ]
  },
  {
   "cell_type": "code",
   "execution_count": 54,
   "metadata": {},
   "outputs": [
    {
     "data": {
      "text/plain": [
       "887"
      ]
     },
     "execution_count": 54,
     "metadata": {},
     "output_type": "execute_result"
    }
   ],
   "source": [
    "# max len\n",
    "\n",
    "max_len = []\n",
    "\n",
    "for i in question_titles:\n",
    "    max_len.append(len(i))\n",
    "for i in questions:\n",
    "    max_len.append(len(i))\n",
    "for i in answers:\n",
    "    max_len.append(len(i))\n",
    "    \n",
    "max(max_len)"
   ]
  },
  {
   "cell_type": "code",
   "execution_count": 56,
   "metadata": {},
   "outputs": [
    {
     "data": {
      "text/plain": [
       "count    18237.000000\n",
       "mean        90.573340\n",
       "std        107.365434\n",
       "min          0.000000\n",
       "5%           5.000000\n",
       "25%         12.000000\n",
       "50%         55.000000\n",
       "75%        126.000000\n",
       "95%        310.000000\n",
       "99%        512.000000\n",
       "max        887.000000\n",
       "dtype: float64"
      ]
     },
     "execution_count": 56,
     "metadata": {},
     "output_type": "execute_result"
    }
   ],
   "source": [
    "pd.Series(max_len).describe(percentiles=[0.05,0.25,0.5,0.75,0.95,0.99])"
   ]
  },
  {
   "cell_type": "code",
   "execution_count": 57,
   "metadata": {},
   "outputs": [
    {
     "data": {
      "image/png": "[encoded data removed]",
      "text/plain": [
       "<Figure size 432x288 with 1 Axes>"
      ]
     },
     "metadata": {
      "needs_background": "light"
     },
     "output_type": "display_data"
    }
   ],
   "source": [
    "plt.hist(max_len, bins = 50)\n",
    "plt.show()"
   ]
  },
  {
   "cell_type": "code",
   "execution_count": 69,
   "metadata": {},
   "outputs": [],
   "source": [
    "# keeping max len of 500 tokens\n",
    "\n",
    "question_titles = [i[:500] for i in question_titles]\n",
    "questions = [i[:500] for i in questions]\n",
    "answers = [i[:500] for i in answers]"
   ]
  },
  {
   "cell_type": "code",
   "execution_count": 100,
   "metadata": {},
   "outputs": [
    {
     "data": {
      "text/plain": [
       "array([1297, 2094, 2748])"
      ]
     },
     "execution_count": 100,
     "metadata": {},
     "output_type": "execute_result"
    }
   ],
   "source": [
    "# some texts are reduced to 0 words after tokenizing (dropping out all non token words)\n",
    "# dropping them\n",
    "\n",
    "to_drop = []\n",
    "\n",
    "qt = []\n",
    "for i in question_titles:\n",
    "    qt.append(len(i))\n",
    "qt = np.array(qt)\n",
    "qt = np.where(qt<1)[0]\n",
    "q = []\n",
    "for i in questions:\n",
    "    q.append(len(i))\n",
    "q = np.array(q)\n",
    "q = np.where(q<1)[0]\n",
    "a = []\n",
    "for i in answers:\n",
    "    a.append(len(i))\n",
    "a = np.array(a)\n",
    "a = np.where(a<1)[0]\n",
    "\n",
    "for i in qt:\n",
    "    to_drop.append(i)\n",
    "for i in q:\n",
    "    to_drop.append(i)\n",
    "for i in a:\n",
    "    to_drop.append(i)\n",
    "    \n",
    "to_drop = np.unique(np.array(to_drop))\n",
    "to_drop"
   ]
  },
  {
   "cell_type": "code",
   "execution_count": 98,
   "metadata": {},
   "outputs": [],
   "source": [
    "# dropping data with those indices\n",
    "\n",
    "df = pd.DataFrame()\n",
    "\n",
    "df['question_titles'] = question_titles\n",
    "df['questions'] = questions\n",
    "df['answers'] = answers"
   ]
  },
  {
   "cell_type": "code",
   "execution_count": 102,
   "metadata": {},
   "outputs": [],
   "source": [
    "df = df.drop(index = to_drop)\n",
    "data = data.drop(index=to_drop)"
   ]
  },
  {
   "cell_type": "code",
   "execution_count": 103,
   "metadata": {},
   "outputs": [],
   "source": [
    "# all to single dataframe and saving\n",
    "data['question_titles'] = df['question_titles']\n",
    "data['questions'] = df['questions']\n",
    "data['answers'] = df['answers']"
   ]
  },
  {
   "cell_type": "code",
   "execution_count": 105,
   "metadata": {},
   "outputs": [
    {
     "name": "stdout",
     "output_type": "stream",
     "text": [
      "<class 'pandas.core.frame.DataFrame'>\n",
      "Int64Index: 6076 entries, 0 to 6078\n",
      "Data columns (total 36 columns):\n",
      " #   Column                                 Non-Null Count  Dtype  \n",
      "---  ------                                 --------------  -----  \n",
      " 0   question_title                         6076 non-null   object \n",
      " 1   question_body                          6076 non-null   object \n",
      " 2   answer                                 6076 non-null   object \n",
      " 3   question_asker_intent_understanding    6076 non-null   float64\n",
      " 4   question_body_critical                 6076 non-null   float64\n",
      " 5   question_conversational                6076 non-null   float64\n",
      " 6   question_expect_short_answer           6076 non-null   float64\n",
      " 7   question_fact_seeking                  6076 non-null   float64\n",
      " 8   question_has_commonly_accepted_answer  6076 non-null   float64\n",
      " 9   question_interestingness_others        6076 non-null   float64\n",
      " 10  question_interestingness_self          6076 non-null   float64\n",
      " 11  question_multi_intent                  6076 non-null   float64\n",
      " 12  question_not_really_a_question         6076 non-null   float64\n",
      " 13  question_opinion_seeking               6076 non-null   float64\n",
      " 14  question_type_choice                   6076 non-null   float64\n",
      " 15  question_type_compare                  6076 non-null   float64\n",
      " 16  question_type_consequence              6076 non-null   float64\n",
      " 17  question_type_definition               6076 non-null   float64\n",
      " 18  question_type_entity                   6076 non-null   float64\n",
      " 19  question_type_instructions             6076 non-null   float64\n",
      " 20  question_type_procedure                6076 non-null   float64\n",
      " 21  question_type_reason_explanation       6076 non-null   float64\n",
      " 22  question_type_spelling                 6076 non-null   float64\n",
      " 23  question_well_written                  6076 non-null   float64\n",
      " 24  answer_helpful                         6076 non-null   float64\n",
      " 25  answer_level_of_information            6076 non-null   float64\n",
      " 26  answer_plausible                       6076 non-null   float64\n",
      " 27  answer_relevance                       6076 non-null   float64\n",
      " 28  answer_satisfaction                    6076 non-null   float64\n",
      " 29  answer_type_instructions               6076 non-null   float64\n",
      " 30  answer_type_procedure                  6076 non-null   float64\n",
      " 31  answer_type_reason_explanation         6076 non-null   float64\n",
      " 32  answer_well_written                    6076 non-null   float64\n",
      " 33  question_titles                        6076 non-null   object \n",
      " 34  questions                              6076 non-null   object \n",
      " 35  answers                                6076 non-null   object \n",
      "dtypes: float64(30), object(6)\n",
      "memory usage: 1.7+ MB\n"
     ]
    }
   ],
   "source": [
    "data.info()"
   ]
  },
  {
   "cell_type": "code",
   "execution_count": 108,
   "metadata": {},
   "outputs": [],
   "source": [
    "data.to_pickle('../datasets/train_processed.pickle')"
   ]
  }
 ],
 "metadata": {
  "kernelspec": {
   "display_name": "Python 3",
   "language": "python",
   "name": "python3"
  },
  "language_info": {
   "codemirror_mode": {
    "name": "ipython",
    "version": 3
   },
   "file_extension": ".py",
   "mimetype": "text/x-python",
   "name": "python",
   "nbconvert_exporter": "python",
   "pygments_lexer": "ipython3",
   "version": "3.7.6"
  }
 },
 "nbformat": 4,
 "nbformat_minor": 4
}
