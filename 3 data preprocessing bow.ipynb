{
 "cells": [
  {
   "cell_type": "markdown",
   "metadata": {},
   "source": [
    "# For purpose of developing baseline models, BOW approach is also used"
   ]
  },
  {
   "cell_type": "code",
   "execution_count": 40,
   "metadata": {},
   "outputs": [],
   "source": [
    "import numpy as np\n",
    "import pandas as pd \n",
    "import matplotlib.pyplot as plt\n",
    "import nltk\n",
    "import re"
   ]
  },
  {
   "cell_type": "code",
   "execution_count": 41,
   "metadata": {},
   "outputs": [
    {
     "data": {
      "text/plain": [
       "(6079, 42)"
      ]
     },
     "execution_count": 41,
     "metadata": {},
     "output_type": "execute_result"
    }
   ],
   "source": [
    "data = pd.read_csv('../datasets/train_shortened.csv')\n",
    "data.shape"
   ]
  },
  {
   "cell_type": "code",
   "execution_count": 42,
   "metadata": {},
   "outputs": [],
   "source": [
    "# dropping all columns except question title, question, answer and ratings\n",
    "\n",
    "cols = ['question_title', 'question_body', 'answer']\n",
    "for i in data.columns[12:]:\n",
    "    cols.append(i)\n",
    "data = data[cols]"
   ]
  },
  {
   "cell_type": "code",
   "execution_count": 43,
   "metadata": {},
   "outputs": [
    {
     "data": {
      "text/plain": [
       "(6079, 33)"
      ]
     },
     "execution_count": 43,
     "metadata": {},
     "output_type": "execute_result"
    }
   ],
   "source": [
    "data.shape"
   ]
  },
  {
   "cell_type": "code",
   "execution_count": 44,
   "metadata": {},
   "outputs": [],
   "source": [
    "question_titles = data['question_title'].values.copy()\n",
    "questions = data['question_body'].values.copy()\n",
    "answers = data['answer'].values.copy()"
   ]
  },
  {
   "cell_type": "code",
   "execution_count": 45,
   "metadata": {},
   "outputs": [],
   "source": [
    "# adding title, question and answer as same document\n",
    "\n",
    "X = []\n",
    "\n",
    "for i in range(len(question_titles)):\n",
    "    X.append(question_titles[i] + ' ' + questions[i] + ' ' + answers[i])"
   ]
  },
  {
   "cell_type": "code",
   "execution_count": 46,
   "metadata": {},
   "outputs": [],
   "source": [
    "def text_preprocessor(texts):\n",
    "\n",
    "    # final list\n",
    "    texts_prep = []\n",
    "    # chars to remove from text\n",
    "    filters =['\\'', '\\\"', '$', '%' ,'&', '(', ')', '*', ',', '+', '-', '/',':',';','<','=','>'\n",
    "              ,'[',']','^','_','`','{','|','}','~','\\t','\\n', '@', '\\\\']\n",
    "\n",
    "    # cleaning whitespace: only one (' ') remains\n",
    "    whitespace_cleaner = re.compile(r'\\s+')\n",
    "    for i in range(len(texts)):\n",
    "        texts[i] = whitespace_cleaner.sub(' ', texts[i]).strip()\n",
    "\n",
    "    # for each text\n",
    "    for text in texts:\n",
    "        # split it by whitespace\n",
    "        split = text.split(' ')\n",
    "        # list to save preprocessed text\n",
    "        to_add = []\n",
    "        # going word by word\n",
    "        for word in split:\n",
    "            proc = []\n",
    "            # making list of valid words, removing urls\n",
    "            if word.isascii() and word.startswith('http') == False:\n",
    "                x = list(word)\n",
    "                # going char by char\n",
    "                for i in x:\n",
    "                    # if char is not to be filtered out, keep it, else add whitespace instead of it\n",
    "                    if i not in filters:\n",
    "                        # if .?!, add whitespace to it, to keep it as separate token\n",
    "                        if i == '?' or i == '.' or i == '!':\n",
    "                            proc.append(' ' + i)\n",
    "                        else:\n",
    "                            proc.append(i)\n",
    "                    else:\n",
    "                        proc.append(' ')\n",
    "                    if '' in proc:\n",
    "                        proc.remove('')\n",
    "                # apending word to to_add list, which contains its whole text\n",
    "                to_add.append(''.join(proc).lower())\n",
    "                    \n",
    "        # apending list of words back to all texts list\n",
    "        texts_prep.append(' '.join(to_add).strip())\n",
    "        \n",
    "    # cleaning whitespace again: only one (' ') remains\n",
    "    whitespace_cleaner = re.compile(r'\\s+')\n",
    "    for i in range(len(texts_prep)):\n",
    "        texts_prep[i] = whitespace_cleaner.sub(' ', texts_prep[i]).strip()\n",
    "        \n",
    "    return texts_prep"
   ]
  },
  {
   "cell_type": "code",
   "execution_count": 47,
   "metadata": {},
   "outputs": [],
   "source": [
    "X = text_preprocessor(X)"
   ]
  },
  {
   "cell_type": "code",
   "execution_count": 48,
   "metadata": {},
   "outputs": [],
   "source": [
    "# POS tagging all words in tweets, and keeping tags only for nouns, verbs, adjectives and adverbs\n",
    "\n",
    "def pos_tagger(texts):\n",
    "\n",
    "    # procesed array-to-be\n",
    "    texts_tagged = []\n",
    "\n",
    "    for text in texts:\n",
    "        # here each text is added after tagging\n",
    "        tagged_final = []\n",
    "        # splitting by whitespace and tagging\n",
    "        split = text.split(' ')\n",
    "        split = np.array(split)\n",
    "        # some '' are stil left in list, cleaning them with numpy where\n",
    "        where = np.where(split == '')\n",
    "        split = np.delete(split, where)\n",
    "        tagged = nltk.pos_tag(split)\n",
    "        # keeping only tags for nouns, verbs, adjectives and adverbs\n",
    "        for item in tagged:\n",
    "            if item[1].startswith('N'):\n",
    "                tagged_final.append((item[0],'n'))\n",
    "            elif item[1].startswith('V'):\n",
    "                tagged_final.append((item[0],'v'))\n",
    "            elif item[1].startswith('J'):\n",
    "                tagged_final.append((item[0],'a'))\n",
    "            elif item[1].startswith('R'):\n",
    "                tagged_final.append((item[0],'r'))\n",
    "            else:\n",
    "                tagged_final.append((item[0], None))\n",
    "        # adding back to final list\n",
    "        texts_tagged.append(tagged_final)\n",
    "    \n",
    "    return np.array(texts_tagged)"
   ]
  },
  {
   "cell_type": "code",
   "execution_count": 49,
   "metadata": {},
   "outputs": [],
   "source": [
    "X = pos_tagger(X)"
   ]
  },
  {
   "cell_type": "code",
   "execution_count": 50,
   "metadata": {},
   "outputs": [],
   "source": [
    "def lemmatize(texts):\n",
    "    \n",
    "    # using wordnet lemmatizer\n",
    "    from nltk.stem import WordNetLemmatizer\n",
    "    lem = WordNetLemmatizer()\n",
    "    \n",
    "    # lemmatized texts list to be\n",
    "    texts_lemmed = []\n",
    "    # going text by text, if word has valid tag (not None), lemmatize it\n",
    "    for text in texts:\n",
    "        to_add = []\n",
    "        for i,j in text:\n",
    "            if j == None:\n",
    "                to_add.append(i)\n",
    "            else:\n",
    "                to_add.append(lem.lemmatize(i, pos = j))\n",
    "        texts_lemmed.append(' '.join(to_add))\n",
    "    \n",
    "    return np.array(texts_lemmed)"
   ]
  },
  {
   "cell_type": "code",
   "execution_count": 51,
   "metadata": {},
   "outputs": [],
   "source": [
    "X = lemmatize(X)"
   ]
  },
  {
   "cell_type": "code",
   "execution_count": 52,
   "metadata": {},
   "outputs": [
    {
     "data": {
      "text/plain": [
       "1741104"
      ]
     },
     "execution_count": 52,
     "metadata": {},
     "output_type": "execute_result"
    }
   ],
   "source": [
    "# seeing how many unique words there are\n",
    "\n",
    "all_words = []\n",
    "\n",
    "for i in X:\n",
    "    x = i.split(' ')\n",
    "    for j in x:\n",
    "        all_words.append(j)\n",
    "        \n",
    "len(all_words)"
   ]
  },
  {
   "cell_type": "code",
   "execution_count": 53,
   "metadata": {},
   "outputs": [
    {
     "data": {
      "text/plain": [
       "44125"
      ]
     },
     "execution_count": 53,
     "metadata": {},
     "output_type": "execute_result"
    }
   ],
   "source": [
    "# number of unique words\n",
    "\n",
    "vocabulary = list(set(all_words))\n",
    "len(vocabulary)"
   ]
  },
  {
   "cell_type": "code",
   "execution_count": 54,
   "metadata": {},
   "outputs": [
    {
     "data": {
      "text/plain": [
       "8277"
      ]
     },
     "execution_count": 54,
     "metadata": {},
     "output_type": "execute_result"
    }
   ],
   "source": [
    "freq_dist = nltk.FreqDist(all_words)\n",
    "# keeping only words which show up 10 or more times in tweets as tokens, discarding rest\n",
    "\n",
    "tokens = {k:v for k,v in freq_dist.items() if v >= 10}\n",
    "\n",
    "len(tokens)"
   ]
  },
  {
   "cell_type": "code",
   "execution_count": 55,
   "metadata": {},
   "outputs": [],
   "source": [
    "vocabulary = list(tokens.keys())"
   ]
  },
  {
   "cell_type": "code",
   "execution_count": 56,
   "metadata": {},
   "outputs": [],
   "source": [
    "# making tfidf matrix\n",
    "\n",
    "from sklearn.feature_extraction.text import TfidfVectorizer"
   ]
  },
  {
   "cell_type": "code",
   "execution_count": 57,
   "metadata": {},
   "outputs": [],
   "source": [
    "vec = TfidfVectorizer(vocabulary=vocabulary)"
   ]
  },
  {
   "cell_type": "code",
   "execution_count": 58,
   "metadata": {},
   "outputs": [],
   "source": [
    "X = vec.fit_transform(X)"
   ]
  },
  {
   "cell_type": "code",
   "execution_count": 59,
   "metadata": {},
   "outputs": [
    {
     "data": {
      "text/plain": [
       "(6079, 8277)"
      ]
     },
     "execution_count": 59,
     "metadata": {},
     "output_type": "execute_result"
    }
   ],
   "source": [
    "X.shape"
   ]
  },
  {
   "cell_type": "code",
   "execution_count": 62,
   "metadata": {},
   "outputs": [
    {
     "data": {
      "text/plain": [
       "(6076, 8277)"
      ]
     },
     "execution_count": 62,
     "metadata": {},
     "output_type": "execute_result"
    }
   ],
   "source": [
    "# dropping same 3 rows from x as in notebook 2\n",
    "\n",
    "to_drop = [1297, 2094, 2748]\n",
    "\n",
    "X = np.delete(X.toarray(), to_drop, axis = 0)\n",
    "\n",
    "X.shape"
   ]
  },
  {
   "cell_type": "code",
   "execution_count": 63,
   "metadata": {},
   "outputs": [],
   "source": [
    "# pickling\n",
    "\n",
    "import pickle\n",
    "\n",
    "with open('../datasets/tfidf_inputs.pickle', 'wb') as f:\n",
    "    pickle.dump(X, f)"
   ]
  }
 ],
 "metadata": {
  "kernelspec": {
   "display_name": "Python 3",
   "language": "python",
   "name": "python3"
  },
  "language_info": {
   "codemirror_mode": {
    "name": "ipython",
    "version": 3
   },
   "file_extension": ".py",
   "mimetype": "text/x-python",
   "name": "python",
   "nbconvert_exporter": "python",
   "pygments_lexer": "ipython3",
   "version": "3.7.6"
  }
 },
 "nbformat": 4,
 "nbformat_minor": 4
}
